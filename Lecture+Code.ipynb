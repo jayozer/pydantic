{
 "cells": [
  {
   "cell_type": "markdown",
   "metadata": {},
   "source": [
    "### `Pydantic In A Nutshell`"
   ]
  },
  {
   "cell_type": "markdown",
   "metadata": {},
   "source": [
    "##### `Introduction to Pydantic`"
   ]
  },
  {
   "cell_type": "markdown",
   "metadata": {},
   "source": [
    "> * <span style=\"font-family: Monaco; font-size:.8em;\">what is pydantic?</span>\n",
    "> <ul style=\"font-family: Monaco; font-size:.6em;\">\n",
    "> <li style=\"margin-left: 0.6em;\">a library to declaratively define data models, plus a powerful validation engine</li>\n",
    "> </ul>\n",
    "\n",
    "<br/>\n",
    "\n",
    "> * <span style=\"font-family: Monaco; font-size:.8em;\">what is it good for?</span>\n",
    "> <ul style=\"font-family: Monaco; font-size:.6em;\">\n",
    "> <li style=\"margin-left: 0.6em;\">declarative definitions of data models and constraints</li>\n",
    "> <li style=\"margin-left: 0.6em;\">ensuring incoming and outgoing data adheres to model definitions and constraints</li>\n",
    "> <li style=\"margin-left: 0.6em;\">automatic generation of documentation, easy integration with type checkers, higher code clarity</li>\n",
    "> <li style=\"margin-left: 0.6em;\">easily convert models to and from various formats like JSON, YAML, XML, etc</li>\n",
    "> </ul>\n",
    "\n",
    "<br/>\n",
    "\n",
    "> * <span style=\"font-family: Monaco; font-size:.8em;\">pydantic workflow - solves universal prob modern python apps have</span>\n",
    "> <ul style=\"font-family: Monaco; font-size:.6em;\">\n",
    "> <li style=\"margin-left: 0.6em;\">define data model, i.e. a python class that inherits from BaseModel</li>\n",
    "> <li style=\"margin-left: 0.6em;\">create instances of that model by passing data to the model constructor (serialize)</li>\n",
    "> <li style=\"margin-left: 0.6em;\">once instantiated, manipulate the attributes just like any other python object</li>\n",
    "> <li style=\"margin-left: 0.6em;\">optionally, deserialize the data object back out according to business logic</li>\n",
    "> </ul>"
   ]
  },
  {
   "cell_type": "markdown",
   "metadata": {},
   "source": [
    "##### `Our First Pydantic Model`"
   ]
  },
  {
   "cell_type": "code",
   "execution_count": 4,
   "metadata": {},
   "outputs": [],
   "source": [
    "# !pipenv install pydantic==2.5.3"
   ]
  },
  {
   "cell_type": "code",
   "execution_count": 1,
   "metadata": {},
   "outputs": [],
   "source": [
    "import pydantic"
   ]
  },
  {
   "cell_type": "code",
   "execution_count": 2,
   "metadata": {},
   "outputs": [
    {
     "name": "stdout",
     "output_type": "stream",
     "text": [
      "2.5.3\n"
     ]
    }
   ],
   "source": [
    "print(pydantic.VERSION)"
   ]
  },
  {
   "cell_type": "code",
   "execution_count": 5,
   "metadata": {},
   "outputs": [],
   "source": [
    "from pydantic import BaseModel # class that inherits from BaseModel"
   ]
  },
  {
   "cell_type": "code",
   "execution_count": 6,
   "metadata": {},
   "outputs": [],
   "source": [
    "class User(BaseModel): # use BaseModel to define a data model. define class called user, inherits from baseclass.   \n",
    "    pass\n",
    "# class User: # define class called user, inherits from baseclass. \n",
    "#     pass\n",
    "# class inheritence is a way to reuse code.  Object oriented programming.  Object is an instance of a class. \n",
    "# class is a blueprint for an object. \n",
    "# user class will have now have functionality of basemodel class."
   ]
  },
  {
   "cell_type": "code",
   "execution_count": 7,
   "metadata": {},
   "outputs": [],
   "source": [
    "class User(BaseModel): # Add our specifications. What we want to capture for our user data model. \n",
    "    name: str\n",
    "    age: int\n",
    "    email: str\n",
    "\n",
    "    # when defining pydantics models at th eleast we must specify a type. \n",
    "    # We declared our model and pydantic expect it to look like this. "
   ]
  },
  {
   "cell_type": "code",
   "execution_count": 8,
   "metadata": {},
   "outputs": [],
   "source": [
    "user = User(name=\"John Doe\", age=25, email=\"pony@gmail.com\")\n",
    "# create instance of our class. . We do this by passing data to the model constructor   . \n",
    "# This is called serialization. \n",
    "# pydantic will validate the data against the model. \n",
    "# if validation fails, pydantic will raise a validation error. \n",
    "# if validation passes, pydantic will return an instance of our class. "
   ]
  },
  {
   "cell_type": "code",
   "execution_count": 9,
   "metadata": {},
   "outputs": [
    {
     "data": {
      "text/plain": [
       "User(name='John Doe', age=25, email='pony@gmail.com')"
      ]
     },
     "execution_count": 9,
     "metadata": {},
     "output_type": "execute_result"
    }
   ],
   "source": [
    "user # get the wrapper how instance should be displayed.  and have access to all the attributes. "
   ]
  },
  {
   "cell_type": "code",
   "execution_count": 12,
   "metadata": {},
   "outputs": [
    {
     "data": {
      "text/plain": [
       "'John Doe'"
      ]
     },
     "execution_count": 12,
     "metadata": {},
     "output_type": "execute_result"
    }
   ],
   "source": [
    "user.name"
   ]
  },
  {
   "cell_type": "code",
   "execution_count": 11,
   "metadata": {},
   "outputs": [
    {
     "data": {
      "text/plain": [
       "25"
      ]
     },
     "execution_count": 11,
     "metadata": {},
     "output_type": "execute_result"
    }
   ],
   "source": [
    "user.age"
   ]
  },
  {
   "cell_type": "code",
   "execution_count": 12,
   "metadata": {},
   "outputs": [
    {
     "data": {
      "text/plain": [
       "'pony@gmail.com'"
      ]
     },
     "execution_count": 12,
     "metadata": {},
     "output_type": "execute_result"
    }
   ],
   "source": [
    "user.email"
   ]
  },
  {
   "cell_type": "code",
   "execution_count": 13,
   "metadata": {},
   "outputs": [
    {
     "name": "stdout",
     "output_type": "stream",
     "text": [
      "1 validation error for User\n",
      "age\n",
      "  Input should be a valid integer, unable to parse string as an integer [type=int_parsing, input_value='25pdofd', input_type=str]\n",
      "    For further information visit https://errors.pydantic.dev/2.5/v/int_parsing\n"
     ]
    }
   ],
   "source": [
    "# pass junk data - age is passed as a string. This raises a validation error. Pydantic creates an exception. \n",
    "# catching errors at instantiation before it becomaes an error in our code. \n",
    "try:\n",
    "    user = User(name=\"John Doe\", age=\"25pdofd\", email=\"pony@gmail.com\")\n",
    "except pydantic.ValidationError as e:\n",
    "    print(e)"
   ]
  },
  {
   "cell_type": "code",
   "execution_count": 14,
   "metadata": {},
   "outputs": [
    {
     "ename": "ValidationError",
     "evalue": "1 validation error for User\nage\n  Input should be a valid integer, unable to parse string as an integer [type=int_parsing, input_value='25pdofd', input_type=str]\n    For further information visit https://errors.pydantic.dev/2.5/v/int_parsing",
     "output_type": "error",
     "traceback": [
      "\u001b[0;31m---------------------------------------------------------------------------\u001b[0m",
      "\u001b[0;31mValidationError\u001b[0m                           Traceback (most recent call last)",
      "Cell \u001b[0;32mIn[14], line 1\u001b[0m\n\u001b[0;32m----> 1\u001b[0m user \u001b[38;5;241m=\u001b[39m \u001b[43mUser\u001b[49m\u001b[43m(\u001b[49m\u001b[43mname\u001b[49m\u001b[38;5;241;43m=\u001b[39;49m\u001b[38;5;124;43m\"\u001b[39;49m\u001b[38;5;124;43mJohn Doe\u001b[39;49m\u001b[38;5;124;43m\"\u001b[39;49m\u001b[43m,\u001b[49m\u001b[43m \u001b[49m\u001b[43mage\u001b[49m\u001b[38;5;241;43m=\u001b[39;49m\u001b[38;5;124;43m\"\u001b[39;49m\u001b[38;5;124;43m25pdofd\u001b[39;49m\u001b[38;5;124;43m\"\u001b[39;49m\u001b[43m,\u001b[49m\u001b[43m \u001b[49m\u001b[43memail\u001b[49m\u001b[38;5;241;43m=\u001b[39;49m\u001b[38;5;124;43m\"\u001b[39;49m\u001b[38;5;124;43mpony@gmail.com\u001b[39;49m\u001b[38;5;124;43m\"\u001b[39;49m\u001b[43m)\u001b[49m\n",
      "File \u001b[0;32m~/.local/share/virtualenvs/pydantic-nUC6vvIQ/lib/python3.11/site-packages/pydantic/main.py:164\u001b[0m, in \u001b[0;36mBaseModel.__init__\u001b[0;34m(__pydantic_self__, **data)\u001b[0m\n\u001b[1;32m    162\u001b[0m \u001b[38;5;66;03m# `__tracebackhide__` tells pytest and some other tools to omit this function from tracebacks\u001b[39;00m\n\u001b[1;32m    163\u001b[0m __tracebackhide__ \u001b[38;5;241m=\u001b[39m \u001b[38;5;28;01mTrue\u001b[39;00m\n\u001b[0;32m--> 164\u001b[0m \u001b[43m__pydantic_self__\u001b[49m\u001b[38;5;241;43m.\u001b[39;49m\u001b[43m__pydantic_validator__\u001b[49m\u001b[38;5;241;43m.\u001b[39;49m\u001b[43mvalidate_python\u001b[49m\u001b[43m(\u001b[49m\u001b[43mdata\u001b[49m\u001b[43m,\u001b[49m\u001b[43m \u001b[49m\u001b[43mself_instance\u001b[49m\u001b[38;5;241;43m=\u001b[39;49m\u001b[43m__pydantic_self__\u001b[49m\u001b[43m)\u001b[49m\n",
      "\u001b[0;31mValidationError\u001b[0m: 1 validation error for User\nage\n  Input should be a valid integer, unable to parse string as an integer [type=int_parsing, input_value='25pdofd', input_type=str]\n    For further information visit https://errors.pydantic.dev/2.5/v/int_parsing"
     ]
    }
   ],
   "source": [
    "user = User(name=\"John Doe\", age=\"25pdofd\", email=\"pony@gmail.com\")\n"
   ]
  },
  {
   "cell_type": "markdown",
   "metadata": {},
   "source": [
    "##### `Coercion And Strict Types`"
   ]
  },
  {
   "cell_type": "code",
   "execution_count": 15,
   "metadata": {},
   "outputs": [],
   "source": [
    "class User(BaseModel):\n",
    "    name: str\n",
    "    age: int\n",
    "    email: str"
   ]
  },
  {
   "cell_type": "code",
   "execution_count": 16,
   "metadata": {},
   "outputs": [
    {
     "name": "stdout",
     "output_type": "stream",
     "text": [
      "1 validation error for User\n",
      "age\n",
      "  Input should be a valid integer, unable to parse string as an integer [type=int_parsing, input_value='25idif', input_type=str]\n",
      "    For further information visit https://errors.pydantic.dev/2.5/v/int_parsing\n"
     ]
    }
   ],
   "source": [
    "try:\n",
    "    user = User(name='John Doe', age=\"25idif\", email=\"pony123@gmail.com\")\n",
    "except pydantic.ValidationError as e:\n",
    "    print(e)"
   ]
  },
  {
   "cell_type": "code",
   "execution_count": 17,
   "metadata": {},
   "outputs": [],
   "source": [
    "try:\n",
    "    user = User(name='John Doe', age=\"25\", email=\"pony123@gmail.com\") # removed idif from number but it is still a string. \n",
    "except pydantic.ValidationError as e:\n",
    "    print(e)\n",
    "\n",
    "# Pydantic does not throw an error if we pass a string that can be converted to an int. \n",
    "# We can use the strict flag to enforce type checking. \n",
    "# Pydantic bby default does not just stop at checking type but also tries to convert the data\n",
    "# when that operation fails then raises an exception. "
   ]
  },
  {
   "cell_type": "code",
   "execution_count": 23,
   "metadata": {},
   "outputs": [
    {
     "data": {
      "text/plain": [
       "25"
      ]
     },
     "execution_count": 23,
     "metadata": {},
     "output_type": "execute_result"
    }
   ],
   "source": [
    "int(\"25\") # this is what pydantic does. And since it succeeds, no exception is raised. \n",
    "# spirit of pydantic - target data meets our data model not necessary the input data. \n",
    "# So if it casts as an integer then why not.  "
   ]
  },
  {
   "cell_type": "code",
   "execution_count": 22,
   "metadata": {},
   "outputs": [],
   "source": [
    "# int(\"25idif\")"
   ]
  },
  {
   "cell_type": "code",
   "execution_count": 18,
   "metadata": {},
   "outputs": [],
   "source": [
    "class User(BaseModel):\n",
    "    name: str\n",
    "    age: int\n",
    "    email: str\n",
    "    \n",
    "    class Config:\n",
    "        strict = True # strict type checking. this will raise an error if the data does not match the type. Model level configuration.\n",
    "        # ourter class defines model, inner class applies strict to that model. "
   ]
  },
  {
   "cell_type": "code",
   "execution_count": 19,
   "metadata": {},
   "outputs": [
    {
     "name": "stdout",
     "output_type": "stream",
     "text": [
      "1 validation error for User\n",
      "age\n",
      "  Input should be a valid integer [type=int_type, input_value='25', input_type=str]\n",
      "    For further information visit https://errors.pydantic.dev/2.5/v/int_type\n"
     ]
    }
   ],
   "source": [
    "try:\n",
    "    user = User(name='John Doe', age=\"25\", email=\"pony123@gmail.com\")\n",
    "except pydantic.ValidationError as e:\n",
    "    print(e) # this fails because of strict type checking. "
   ]
  },
  {
   "cell_type": "code",
   "execution_count": 20,
   "metadata": {},
   "outputs": [],
   "source": [
    "from pydantic import StrictInt # Pydantic strict types. Because the above will not work for one attrobute but applies to all. This allows to do it in a targeted way. "
   ]
  },
  {
   "cell_type": "code",
   "execution_count": 22,
   "metadata": {},
   "outputs": [],
   "source": [
    "class User(BaseModel):\n",
    "    name: str\n",
    "    age: StrictInt # strict type checking. Enforced!!!\n",
    "    email: str"
   ]
  },
  {
   "cell_type": "code",
   "execution_count": 23,
   "metadata": {},
   "outputs": [
    {
     "name": "stdout",
     "output_type": "stream",
     "text": [
      "1 validation error for User\n",
      "age\n",
      "  Input should be a valid integer [type=int_type, input_value='25', input_type=str]\n",
      "    For further information visit https://errors.pydantic.dev/2.5/v/int_type\n"
     ]
    }
   ],
   "source": [
    "try:\n",
    "    user = User(name='John Doe', age=\"25\", email=\"pony123@gmail.com\")\n",
    "except pydantic.ValidationError as e:\n",
    "    print(e)"
   ]
  },
  {
   "cell_type": "code",
   "execution_count": null,
   "metadata": {},
   "outputs": [],
   "source": [
    "# So we can use modelconfig or strictint to enforce type checking. "
   ]
  },
  {
   "cell_type": "markdown",
   "metadata": {},
   "source": [
    "##### `More Types And Constraints`"
   ]
  },
  {
   "cell_type": "code",
   "execution_count": 29,
   "metadata": {},
   "outputs": [],
   "source": [
    "from pydantic import StrictInt\n",
    "\n",
    "class User(BaseModel):\n",
    "    name: str\n",
    "    age: StrictInt\n",
    "    email: str\n",
    "\n",
    "try:\n",
    "    user = User(name='John Doe', age=25, email=\"pony123@gmail.com\")\n",
    "except pydantic.ValidationError as e:\n",
    "    print(e)"
   ]
  },
  {
   "cell_type": "markdown",
   "metadata": {},
   "source": [
    "> some additional conditions...\n",
    "\n",
    "    * age should be between 18 and 120 years old\n",
    "    * name should be between 3 and 50 characters long\n",
    "    * email should be a valid email address"
   ]
  },
  {
   "cell_type": "code",
   "execution_count": 24,
   "metadata": {},
   "outputs": [],
   "source": [
    "from pydantic import Field # field allows to specify constraints and metadata. details that go beyond basic, cavlidation, serialization and documenttation...."
   ]
  },
  {
   "cell_type": "code",
   "execution_count": 25,
   "metadata": {},
   "outputs": [],
   "source": [
    "class User(BaseModel):\n",
    "    name: str\n",
    "    age: StrictInt = Field(ge=18, le=120) # age<18 or age>120 will raise an error. \n",
    "    email: str"
   ]
  },
  {
   "cell_type": "code",
   "execution_count": 26,
   "metadata": {},
   "outputs": [],
   "source": [
    "try:\n",
    "    user = User(name='John Doe', age=29, email=\"pony123@gmail.com\")\n",
    "except pydantic.ValidationError as e:\n",
    "    print(e)\n",
    "\n",
    "# Pass"
   ]
  },
  {
   "cell_type": "code",
   "execution_count": 28,
   "metadata": {},
   "outputs": [],
   "source": [
    "class User(BaseModel):\n",
    "    name: str = Field(min_length=3, max_length=50)\n",
    "    age: StrictInt = Field(ge=18, le=120)\n",
    "    email: str "
   ]
  },
  {
   "cell_type": "code",
   "execution_count": 29,
   "metadata": {},
   "outputs": [],
   "source": [
    "try:\n",
    "    user = User(name='Joni', age=29, email=\"pony123@gmail.com\")\n",
    "except pydantic.ValidationError as e:\n",
    "    print(e)"
   ]
  },
  {
   "cell_type": "code",
   "execution_count": 31,
   "metadata": {},
   "outputs": [
    {
     "name": "stdout",
     "output_type": "stream",
     "text": [
      "1 validation error for User\n",
      "name\n",
      "  String should have at least 3 characters [type=string_too_short, input_value='Yy', input_type=str]\n",
      "    For further information visit https://errors.pydantic.dev/2.5/v/string_too_short\n"
     ]
    }
   ],
   "source": [
    "try:\n",
    "    user = User(name='Yy', age=29, email=\"pony123@gmail.com\")\n",
    "except pydantic.ValidationError as e:\n",
    "    print(e)"
   ]
  },
  {
   "cell_type": "code",
   "execution_count": 32,
   "metadata": {},
   "outputs": [],
   "source": [
    "from pydantic import EmailStr # most straight forward approach to check email type"
   ]
  },
  {
   "cell_type": "code",
   "execution_count": null,
   "metadata": {},
   "outputs": [],
   "source": [
    "class User(BaseModel):\n",
    "    name: str = Field(min_length=3, max_length=50)\n",
    "    age: StrictInt = Field(ge=18, le=120)\n",
    "    email: EmailStr # known as a network type in pydantic - it has an external dependency. Email validator package, so we need to add emailvalidator package"
   ]
  },
  {
   "cell_type": "code",
   "execution_count": 35,
   "metadata": {},
   "outputs": [],
   "source": [
    "try:\n",
    "    user = User(name='Joni', age=29, email=\"pony123@gmail.com\")\n",
    "except pydantic.ValidationError as e:\n",
    "    print(e)\n",
    "\n",
    "# After installing the emailvalidator package, we can use the EmailStr type. "
   ]
  },
  {
   "cell_type": "code",
   "execution_count": null,
   "metadata": {},
   "outputs": [],
   "source": [
    "# this is the pydantic version that will add the dependency. \n",
    "\n",
    "# with the `email` extra:\n",
    "# pipenv install 'pydantic[email]'\n",
    "# or with `email` and `timezone` extras:\n",
    "# pipenv install 'pydantic[email,timezone]'"
   ]
  },
  {
   "cell_type": "code",
   "execution_count": null,
   "metadata": {},
   "outputs": [],
   "source": [
    "#!pipenv install email-validator==2.1.0"
   ]
  },
  {
   "cell_type": "markdown",
   "metadata": {},
   "source": [
    "# Section 2:"
   ]
  },
  {
   "cell_type": "markdown",
   "metadata": {},
   "source": [
    "### `Type Hinting Foundations`"
   ]
  },
  {
   "cell_type": "markdown",
   "metadata": {},
   "source": [
    "##### `Date And Time Types`"
   ]
  },
  {
   "cell_type": "code",
   "execution_count": 36,
   "metadata": {},
   "outputs": [],
   "source": [
    "from datetime import date"
   ]
  },
  {
   "cell_type": "code",
   "execution_count": 51,
   "metadata": {},
   "outputs": [],
   "source": [
    "# 2024-01-01"
   ]
  },
  {
   "cell_type": "code",
   "execution_count": 40,
   "metadata": {},
   "outputs": [],
   "source": [
    "from pydantic import BaseModel"
   ]
  },
  {
   "cell_type": "code",
   "execution_count": 41,
   "metadata": {},
   "outputs": [],
   "source": [
    "class Event(BaseModel):\n",
    "    event_date: date"
   ]
  },
  {
   "cell_type": "code",
   "execution_count": 42,
   "metadata": {},
   "outputs": [],
   "source": [
    "try: \n",
    "    event = Event(event_date=\"2024-03-03\")\n",
    "    # event = Event(event_date=\"2024\")\n",
    "except pydantic.ValidationError as e:\n",
    "    print(e)"
   ]
  },
  {
   "cell_type": "code",
   "execution_count": 43,
   "metadata": {},
   "outputs": [],
   "source": [
    "from datetime import time"
   ]
  },
  {
   "cell_type": "code",
   "execution_count": 44,
   "metadata": {},
   "outputs": [],
   "source": [
    "class Event(BaseModel):\n",
    "    event_date: date\n",
    "    event_time: time"
   ]
  },
  {
   "cell_type": "code",
   "execution_count": 45,
   "metadata": {},
   "outputs": [],
   "source": [
    "try: \n",
    "    event = Event(event_date=\"2024-03-03\", event_time=\"14:30:00\")\n",
    "    # event = Event(event_date=\"2024\") # event_time - type is missing and date will also fail wit this. \n",
    "except pydantic.ValidationError as e:\n",
    "    print(e)"
   ]
  },
  {
   "cell_type": "code",
   "execution_count": 46,
   "metadata": {},
   "outputs": [],
   "source": [
    "from datetime import datetime  # not the same as time"
   ]
  },
  {
   "cell_type": "code",
   "execution_count": 47,
   "metadata": {},
   "outputs": [],
   "source": [
    "class Appointment(BaseModel):\n",
    "    start_time: datetime"
   ]
  },
  {
   "cell_type": "code",
   "execution_count": 51,
   "metadata": {},
   "outputs": [
    {
     "name": "stdout",
     "output_type": "stream",
     "text": [
      "1 validation error for Appointment\n",
      "start_time\n",
      "  Input should be a valid datetime, invalid character in year [type=datetime_parsing, input_value='HELLO2023-01-01T10:00:00', input_type=str]\n",
      "    For further information visit https://errors.pydantic.dev/2.5/v/datetime_parsing\n"
     ]
    }
   ],
   "source": [
    "try: \n",
    "    # appt = Appointment(start_time=datetime.now())\n",
    "    # appt = Appointment(start_time=\"2023-01-01T10:00:00\")\n",
    "    \n",
    "    appt = Appointment(start_time=\"HELLO2023-01-01T10:00:00\")\n",
    "    # event = Event(event_date=\"2024\")\n",
    "except pydantic.ValidationError as e:\n",
    "    print(e)"
   ]
  },
  {
   "cell_type": "code",
   "execution_count": 53,
   "metadata": {},
   "outputs": [
    {
     "data": {
      "text/plain": [
       "datetime.datetime(2023, 1, 1, 10, 0)"
      ]
     },
     "execution_count": 53,
     "metadata": {},
     "output_type": "execute_result"
    }
   ],
   "source": [
    "appt.start_time  # this is called dot.access."
   ]
  },
  {
   "cell_type": "markdown",
   "metadata": {},
   "source": [
    "##### `Lists And Nested Lists`"
   ]
  },
  {
   "cell_type": "code",
   "execution_count": 54,
   "metadata": {},
   "outputs": [
    {
     "data": {
      "text/plain": [
       "[2, 4, 6, 8, 10]"
      ]
     },
     "execution_count": 54,
     "metadata": {},
     "output_type": "execute_result"
    }
   ],
   "source": [
    "[2, 4, 6, 8, 10]"
   ]
  },
  {
   "cell_type": "code",
   "execution_count": 55,
   "metadata": {},
   "outputs": [
    {
     "data": {
      "text/plain": [
       "[2, 4, 6, 8, 10]"
      ]
     },
     "execution_count": 55,
     "metadata": {},
     "output_type": "execute_result"
    }
   ],
   "source": [
    "[x for x in range(1, 11) if x % 2 == 0]"
   ]
  },
  {
   "cell_type": "code",
   "execution_count": 56,
   "metadata": {},
   "outputs": [],
   "source": [
    "from typing import List # capital List - defined python built in type is list but in Pydantic version is List. They are same. Validation should work exactly same way, authors approach is List. "
   ]
  },
  {
   "cell_type": "code",
   "execution_count": 57,
   "metadata": {},
   "outputs": [
    {
     "data": {
      "text/plain": [
       "list"
      ]
     },
     "execution_count": 57,
     "metadata": {},
     "output_type": "execute_result"
    }
   ],
   "source": [
    "list # build in list is a constructor for list type. "
   ]
  },
  {
   "cell_type": "code",
   "execution_count": 60,
   "metadata": {},
   "outputs": [],
   "source": [
    "class ShoppingList(BaseModel):\n",
    "    items: List[str]\n",
    "    # items: list[str] # also works. "
   ]
  },
  {
   "cell_type": "code",
   "execution_count": 61,
   "metadata": {},
   "outputs": [
    {
     "name": "stdout",
     "output_type": "stream",
     "text": [
      "items=['apple', 'banana', 'cherry']\n"
     ]
    }
   ],
   "source": [
    "try:\n",
    "    shopping_list = ShoppingList(items=[\"apple\", \"banana\", \"cherry\"])\n",
    "    print(shopping_list)\n",
    "except pydantic.ValidationError as e:\n",
    "    print(e)"
   ]
  },
  {
   "cell_type": "code",
   "execution_count": 62,
   "metadata": {},
   "outputs": [],
   "source": [
    "from pydantic import Field"
   ]
  },
  {
   "cell_type": "code",
   "execution_count": 63,
   "metadata": {},
   "outputs": [],
   "source": [
    "class ShoppingList(BaseModel):\n",
    "    items: List[str] = Field(max_items=5, min_items=2) # these are the constraints."
   ]
  },
  {
   "cell_type": "code",
   "execution_count": 64,
   "metadata": {},
   "outputs": [
    {
     "name": "stdout",
     "output_type": "stream",
     "text": [
      "1 validation error for ShoppingList\n",
      "items\n",
      "  List should have at least 2 items after validation, not 1 [type=too_short, input_value=['apple'], input_type=list]\n",
      "    For further information visit https://errors.pydantic.dev/2.5/v/too_short\n"
     ]
    }
   ],
   "source": [
    "try:\n",
    "    shopping_list = ShoppingList(items=[\"apple\"]) # fails since we need min 3 items. \n",
    "    print(shopping_list)\n",
    "except pydantic.ValidationError as e:\n",
    "    print(e)"
   ]
  },
  {
   "cell_type": "code",
   "execution_count": 66,
   "metadata": {},
   "outputs": [],
   "source": [
    "class Matrix(BaseModel):\n",
    "    grid: List[List[int]] # list of lists of integers - nested list. "
   ]
  },
  {
   "cell_type": "code",
   "execution_count": 67,
   "metadata": {},
   "outputs": [
    {
     "name": "stdout",
     "output_type": "stream",
     "text": [
      "grid=[[1, 2, 3], [3, 4, 9]]\n"
     ]
    }
   ],
   "source": [
    "try:\n",
    "    matrix = Matrix(grid=[[1,2,3], [3,4,9]])\n",
    "    print(matrix)\n",
    "except pydantic.ValidationError as e:\n",
    "    print(e)"
   ]
  },
  {
   "cell_type": "markdown",
   "metadata": {},
   "source": [
    "# It can be a type we defined - For example recipe Ingredients "
   ]
  },
  {
   "cell_type": "code",
   "execution_count": 69,
   "metadata": {},
   "outputs": [],
   "source": [
    "class Ingredient(BaseModel):\n",
    "    name: str\n",
    "    quantity: float"
   ]
  },
  {
   "cell_type": "code",
   "execution_count": 70,
   "metadata": {},
   "outputs": [],
   "source": [
    "class Recipe(BaseModel):\n",
    "    ingredients: List[Ingredient]"
   ]
  },
  {
   "cell_type": "code",
   "execution_count": 71,
   "metadata": {},
   "outputs": [
    {
     "name": "stdout",
     "output_type": "stream",
     "text": [
      "ingredients=[Ingredient(name='salt', quantity=0.3), Ingredient(name='pepper', quantity=0.6), Ingredient(name='chicken breast', quantity=4.6)]\n"
     ]
    }
   ],
   "source": [
    "try: # instentiate various ingredient types. \n",
    "    recipe = Recipe(ingredients=[\n",
    "        Ingredient(name=\"salt\", quantity=0.3),\n",
    "        Ingredient(name=\"pepper\", quantity=0.6),\n",
    "        Ingredient(name=\"chicken breast\", quantity=4.6),\n",
    "    ])\n",
    "    print(recipe)\n",
    "except pydantic.ValidationError as e:\n",
    "    print(e)"
   ]
  },
  {
   "cell_type": "markdown",
   "metadata": {},
   "source": [
    "##### `Dictionaries And Typed Key-Values`"
   ]
  },
  {
   "cell_type": "code",
   "execution_count": 116,
   "metadata": {},
   "outputs": [],
   "source": [
    "# either dict (built-in python type) or Dict (from typing module)\n",
    "# Dict is the pydantic version. - intended to be used for type innotations. "
   ]
  },
  {
   "cell_type": "code",
   "execution_count": 73,
   "metadata": {},
   "outputs": [],
   "source": [
    "from pydantic import BaseModel\n",
    "from typing import Dict\n",
    "\n",
    "class UserProfiles(BaseModel):\n",
    "    profiles: Dict[str, int] #profile Dict"
   ]
  },
  {
   "cell_type": "code",
   "execution_count": 74,
   "metadata": {},
   "outputs": [],
   "source": [
    "try:\n",
    "    user_profiles = UserProfiles(profiles={\"alice\": 25, \"bob\": 23})\n",
    "    # user_profiles = UserProfiles(profiles={\"alice\": \"25\", \"bob\": 23}) # castable to int\n",
    "    # user_profiles = UserProfiles(profiles={\"alice\": \"25asfasd\", \"bob\": 23}) # non-castable to int\n",
    "except pydantic.ValidationError as e:\n",
    "    print(e)"
   ]
  },
  {
   "cell_type": "code",
   "execution_count": 75,
   "metadata": {},
   "outputs": [
    {
     "data": {
      "text/plain": [
       "2"
      ]
     },
     "execution_count": 75,
     "metadata": {},
     "output_type": "execute_result"
    }
   ],
   "source": [
    "len(user_profiles.profiles)"
   ]
  },
  {
   "cell_type": "code",
   "execution_count": 76,
   "metadata": {},
   "outputs": [
    {
     "data": {
      "text/plain": [
       "{'alice': 25, 'bob': 23}"
      ]
     },
     "execution_count": 76,
     "metadata": {},
     "output_type": "execute_result"
    }
   ],
   "source": [
    "user_profiles.profiles"
   ]
  },
  {
   "cell_type": "code",
   "execution_count": 77,
   "metadata": {},
   "outputs": [],
   "source": [
    "from pydantic import Field\n",
    "\n",
    "class UserProfiles(BaseModel):\n",
    "    profiles: Dict[str, int] = Field(min_items=2) # min_items and max_items are constraints. "
   ]
  },
  {
   "cell_type": "code",
   "execution_count": null,
   "metadata": {},
   "outputs": [],
   "source": []
  },
  {
   "cell_type": "code",
   "execution_count": 81,
   "metadata": {},
   "outputs": [],
   "source": [
    "class Product(BaseModel):\n",
    "    name: str\n",
    "    price: float\n",
    "    \n",
    "class ProductCatalog(BaseModel):\n",
    "    products: Dict[str, Product]  # throw in our own model called Product to specify more complex structures. key is str, value is an instance of Product"
   ]
  },
  {
   "cell_type": "code",
   "execution_count": 84,
   "metadata": {},
   "outputs": [],
   "source": [
    "try:\n",
    "    catalog = ProductCatalog(\n",
    "        products={\n",
    "            \"p1\": Product(name=\"tea\", price=4.99),\n",
    "            \"p2\": Product(name=\"coffee\", price=3.99),\n",
    "            \"p3\": {\"name\": \"pasta\", \"price\": 13.09} #instead of product instance, it is simply a dict of str and int. Since Pydantic can understand it is a dict and can parse it, it will parse it and it works. Dont have struct mode on so pydantic is eager to create the desired shape. \n",
    "        }\n",
    "    )\n",
    "except pydantic.ValidationError as e:\n",
    "    print(e)"
   ]
  },
  {
   "cell_type": "code",
   "execution_count": 86,
   "metadata": {},
   "outputs": [
    {
     "name": "stdout",
     "output_type": "stream",
     "text": [
      "products={'p1': Product(name='tea', price=4.99), 'p2': Product(name='coffee', price=3.99), 'p3': Product(name='pasta', price=13.09)}\n"
     ]
    }
   ],
   "source": [
    "print(catalog)"
   ]
  },
  {
   "cell_type": "code",
   "execution_count": 88,
   "metadata": {},
   "outputs": [],
   "source": [
    "# Order book example\n",
    "class Order(BaseModel):\n",
    "    product_id: str\n",
    "    quantity: int\n",
    "    \n",
    "class OrderBook(BaseModel):\n",
    "    orders: Dict[str, Dict[str, Order]] # orders are stored in a dict having str as keys and dict of str and orders as its value - 4 values deep. "
   ]
  },
  {
   "cell_type": "code",
   "execution_count": 89,
   "metadata": {},
   "outputs": [],
   "source": [
    "order_book = OrderBook(\n",
    "    orders={\n",
    "        \"o1\": {\"i1\": Order(product_id=\"A1\", quantity=2)}\n",
    "    }\n",
    ")"
   ]
  },
  {
   "cell_type": "code",
   "execution_count": 90,
   "metadata": {},
   "outputs": [
    {
     "name": "stdout",
     "output_type": "stream",
     "text": [
      "orders={'o1': {'i1': Order(product_id='A1', quantity=2)}}\n"
     ]
    }
   ],
   "source": [
    "print(order_book)"
   ]
  },
  {
   "cell_type": "markdown",
   "metadata": {},
   "source": [
    "##### `Sets And Tuples`"
   ]
  },
  {
   "cell_type": "code",
   "execution_count": 157,
   "metadata": {},
   "outputs": [],
   "source": [
    "# set() # unordered collections of unique elements, tuple() # ordered collection of elements"
   ]
  },
  {
   "cell_type": "code",
   "execution_count": 91,
   "metadata": {},
   "outputs": [
    {
     "name": "stdout",
     "output_type": "stream",
     "text": [
      "values={1, 2, 3, 4}\n"
     ]
    }
   ],
   "source": [
    "from pydantic import BaseModel, Field, ValidationError\n",
    "from typing import Set # Type annotation Set instead of set. \n",
    "\n",
    "class UniqueNumbers(BaseModel):\n",
    "    values: Set[int] = Field(max_items=10, min_items=2) # sized collection, use Field function to specify constraints. \n",
    "    \n",
    "try:\n",
    "    unique_numbers = UniqueNumbers(values={1, 2, 3, 4, \"4\"}) # pydantic will cast the string to an integer. Since we are forming a Set we will drop the duplicate and get a unique list.\n",
    "    print(unique_numbers)\n",
    "except ValidationError as e:\n",
    "    print(e)"
   ]
  },
  {
   "cell_type": "code",
   "execution_count": null,
   "metadata": {},
   "outputs": [],
   "source": [
    "# Tuple\n",
    "# ordered collection of elements. \n",
    "# immutable. "
   ]
  },
  {
   "cell_type": "code",
   "execution_count": 92,
   "metadata": {},
   "outputs": [],
   "source": [
    "from typing import Tuple\n",
    "\n",
    "class Coordinates(BaseModel):\n",
    "    point: Tuple[float, float, float]"
   ]
  },
  {
   "cell_type": "code",
   "execution_count": 93,
   "metadata": {},
   "outputs": [],
   "source": [
    "# target shape: \n",
    "coordinates = Coordinates(point=(1.0, 2.0, 3.0))"
   ]
  },
  {
   "cell_type": "code",
   "execution_count": 94,
   "metadata": {},
   "outputs": [
    {
     "name": "stdout",
     "output_type": "stream",
     "text": [
      "point=(1.0, 2.0, 3.0)\n"
     ]
    }
   ],
   "source": [
    "print(coordinates) # point is a tuple consisting of 3 elements - Tuple can have any types. "
   ]
  },
  {
   "cell_type": "code",
   "execution_count": null,
   "metadata": {},
   "outputs": [],
   "source": [
    "# tuple -> (name, age, is_admin) -> holds 3 elements with 3 different types. "
   ]
  },
  {
   "cell_type": "code",
   "execution_count": 95,
   "metadata": {},
   "outputs": [],
   "source": [
    "class UserInfo(BaseModel):\n",
    "    details: Tuple[int, str, bool] # can be various types. "
   ]
  },
  {
   "cell_type": "code",
   "execution_count": 96,
   "metadata": {},
   "outputs": [],
   "source": [
    "user_info = UserInfo(details=(42, \"Answer\", True))"
   ]
  },
  {
   "cell_type": "code",
   "execution_count": 97,
   "metadata": {},
   "outputs": [
    {
     "data": {
      "text/plain": [
       "UserInfo(details=(42, 'Answer', True))"
      ]
     },
     "execution_count": 97,
     "metadata": {},
     "output_type": "execute_result"
    }
   ],
   "source": [
    "user_info"
   ]
  },
  {
   "cell_type": "code",
   "execution_count": null,
   "metadata": {},
   "outputs": [],
   "source": [
    "# there could be cases where we dont know the exact length. Then we use ...\n",
    "# Tuple of variable length. "
   ]
  },
  {
   "cell_type": "code",
   "execution_count": 98,
   "metadata": {},
   "outputs": [],
   "source": [
    "class GroceryList(BaseModel):\n",
    "    items: Tuple[str, ...]"
   ]
  },
  {
   "cell_type": "code",
   "execution_count": 99,
   "metadata": {},
   "outputs": [
    {
     "data": {
      "text/plain": [
       "GroceryList(items=('apples',))"
      ]
     },
     "execution_count": 99,
     "metadata": {},
     "output_type": "execute_result"
    }
   ],
   "source": [
    "GroceryList(items=(\"apples\",))"
   ]
  },
  {
   "cell_type": "code",
   "execution_count": 100,
   "metadata": {},
   "outputs": [
    {
     "data": {
      "text/plain": [
       "GroceryList(items=('apples', 'kiwi', 'watermelon'))"
      ]
     },
     "execution_count": 100,
     "metadata": {},
     "output_type": "execute_result"
    }
   ],
   "source": [
    "GroceryList(items=(\"apples\", \"kiwi\", \"watermelon\"))"
   ]
  },
  {
   "cell_type": "code",
   "execution_count": 101,
   "metadata": {},
   "outputs": [
    {
     "data": {
      "text/plain": [
       "str"
      ]
     },
     "execution_count": 101,
     "metadata": {},
     "output_type": "execute_result"
    }
   ],
   "source": [
    "type((\"apples\"))"
   ]
  },
  {
   "cell_type": "code",
   "execution_count": 102,
   "metadata": {},
   "outputs": [
    {
     "data": {
      "text/plain": [
       "tuple"
      ]
     },
     "execution_count": 102,
     "metadata": {},
     "output_type": "execute_result"
    }
   ],
   "source": [
    "type((\"apples\",))"
   ]
  },
  {
   "cell_type": "code",
   "execution_count": 103,
   "metadata": {},
   "outputs": [
    {
     "data": {
      "text/plain": [
       "tuple"
      ]
     },
     "execution_count": 103,
     "metadata": {},
     "output_type": "execute_result"
    }
   ],
   "source": [
    "type((\"apples\", \"bananas\"))"
   ]
  },
  {
   "cell_type": "markdown",
   "metadata": {},
   "source": [
    "##### `Unions`"
   ]
  },
  {
   "cell_type": "code",
   "execution_count": 104,
   "metadata": {},
   "outputs": [],
   "source": [
    "from pydantic import BaseModel\n",
    "\n",
    "class Car(BaseModel):\n",
    "    make: str\n",
    "    model: str\n",
    "    seat_count: int\n",
    "\n",
    "class Motorcycle(BaseModel):\n",
    "    make: str\n",
    "    model: str\n",
    "    has_sidecar: bool\n",
    "\n",
    "class Truck(BaseModel):\n",
    "    make: str\n",
    "    model: str\n",
    "    payload_capacity: float"
   ]
  },
  {
   "cell_type": "code",
   "execution_count": 105,
   "metadata": {},
   "outputs": [],
   "source": [
    "from typing import Union"
   ]
  },
  {
   "cell_type": "code",
   "execution_count": 106,
   "metadata": {},
   "outputs": [],
   "source": [
    "class Vehicle(BaseModel):\n",
    "    owner: str\n",
    "    vehicle_details: Union[Car, Motorcycle, Truck] # Union of different types. Order of Car, Motorcycle matters. So if we were to have different types then paydantic will cast to the type that it can first and then continue. "
   ]
  },
  {
   "cell_type": "code",
   "execution_count": 107,
   "metadata": {},
   "outputs": [
    {
     "data": {
      "text/plain": [
       "Vehicle(owner='Alice', vehicle_details=Car(make='Tesla', model='S', seat_count=5))"
      ]
     },
     "execution_count": 107,
     "metadata": {},
     "output_type": "execute_result"
    }
   ],
   "source": [
    "Vehicle(owner=\"Alice\", vehicle_details=Car(make=\"Tesla\", model=\"S\", seat_count=5))"
   ]
  },
  {
   "cell_type": "code",
   "execution_count": 108,
   "metadata": {},
   "outputs": [
    {
     "data": {
      "text/plain": [
       "Vehicle(owner='Alice', vehicle_details=Motorcycle(make='HD', model='Softail', has_sidecar=False))"
      ]
     },
     "execution_count": 108,
     "metadata": {},
     "output_type": "execute_result"
    }
   ],
   "source": [
    "Vehicle(owner=\"Alice\", vehicle_details=Motorcycle(make=\"HD\", model=\"Softail\", has_sidecar=False))"
   ]
  },
  {
   "cell_type": "code",
   "execution_count": null,
   "metadata": {},
   "outputs": [],
   "source": [
    "# previously we are repeating the same attributes in each class. \n",
    "# We can use inheritance to avoid repeating the same attributes. \n"
   ]
  },
  {
   "cell_type": "code",
   "execution_count": 109,
   "metadata": {},
   "outputs": [],
   "source": [
    "from pydantic import BaseModel\n",
    "\n",
    "class VehicleBase(BaseModel): # base class\n",
    "    make: str\n",
    "    model: str\n",
    "\n",
    "class Car(VehicleBase): # inherit from base class with seat_count attribute. \n",
    "    seat_count: int\n",
    "\n",
    "class Motorcycle(VehicleBase):\n",
    "    has_sidecar: bool\n",
    "\n",
    "class Truck(VehicleBase):\n",
    "    payload_capacity: float"
   ]
  },
  {
   "cell_type": "markdown",
   "metadata": {},
   "source": [
    "# Section3: "
   ]
  },
  {
   "cell_type": "markdown",
   "metadata": {},
   "source": [
    "### `Factories, Enums, And Other Props`"
   ]
  },
  {
   "cell_type": "markdown",
   "metadata": {},
   "source": [
    "##### `Optional, Any And Defaults`"
   ]
  },
  {
   "cell_type": "code",
   "execution_count": 187,
   "metadata": {},
   "outputs": [
    {
     "name": "stdout",
     "output_type": "stream",
     "text": [
      "1 validation error for User\n",
      "age\n",
      "  Field required [type=missing, input_value={'name': 'Alice'}, input_type=dict]\n",
      "    For further information visit https://errors.pydantic.dev/2.5/v/missing\n"
     ]
    }
   ],
   "source": [
    "from pydantic import BaseModel, ValidationError\n",
    "\n",
    "class User(BaseModel):\n",
    "    name: str\n",
    "    age: int\n",
    "    \n",
    "try: \n",
    "    user1 = User(name=\"Alice\")\n",
    "    print(user1.age)\n",
    "except ValidationError as e:\n",
    "    print(e)\n",
    "\n",
    "# here name and age are required so when we dont give an age, the validation error is raised. \n",
    "# we can make age optional by setting a default value of None. \n"
   ]
  },
  {
   "cell_type": "code",
   "execution_count": 110,
   "metadata": {},
   "outputs": [
    {
     "name": "stdout",
     "output_type": "stream",
     "text": [
      "None\n"
     ]
    }
   ],
   "source": [
    "from pydantic import BaseModel, ValidationError\n",
    "from typing import Optional # we can use Optional type from typing module. \n",
    "\n",
    "class User(BaseModel):\n",
    "    name: str\n",
    "    age: Optional[int] = None # this shows that age is optional.  And None is the default value. Age is optional and nullable field.\n",
    "    \n",
    "try: \n",
    "    user1 = User(name=\"Alice\")\n",
    "    print(user1.age)\n",
    "except ValidationError as e:\n",
    "    print(e)"
   ]
  },
  {
   "cell_type": "code",
   "execution_count": 111,
   "metadata": {},
   "outputs": [
    {
     "data": {
      "text/plain": [
       "User(name='Alice', age=None)"
      ]
     },
     "execution_count": 111,
     "metadata": {},
     "output_type": "execute_result"
    }
   ],
   "source": [
    "user1"
   ]
  },
  {
   "cell_type": "markdown",
   "metadata": {},
   "source": [
    "## Some rules:"
   ]
  },
  {
   "cell_type": "markdown",
   "metadata": {},
   "source": [
    "> * if you want a value to not be required at instantiation set a default alongside a type annotation, e.g. age: int = 33\n",
    "\n",
    "> * if, in addition to not being required, you want the field to be nullable, meaning possibly assume the value of None, then all you need to do is wrap the type in Optional, e.g. age: Optional[int] = 33\n",
    "\n",
    "> * if, in addition to nullable and not being required, you also want the field to not be type checked, then you use Any instead of the type, alongside a specified default, e.g. age: Any = 33"
   ]
  },
  {
   "cell_type": "code",
   "execution_count": null,
   "metadata": {},
   "outputs": [],
   "source": [
    "from typing import Any # not only is it not required it is also null type check, it can be any type.\n",
    "\n",
    "class Mnemonic(BaseModel):\n",
    "    requiredIntQuantity: int  # something is required all times.\n",
    "    optionalIntQuantity: int = 10 # something is optional with a default value. \n",
    "    optionalIntQuantityNullable: Optional[int] = 10 # something is optional and nullable with a default value. Value None is also acceptable. \n",
    "    optionalAnyTypeQuantity: Any = 10 # something is optional, nullable and any type with a default value. "
   ]
  },
  {
   "cell_type": "markdown",
   "metadata": {},
   "source": [
    "##### `UUIDs And Default Factories`"
   ]
  },
  {
   "cell_type": "code",
   "execution_count": 193,
   "metadata": {},
   "outputs": [],
   "source": [
    "# UUID -> universally unique identifiers\n",
    "# GUID -> globally unique identifiers\n",
    "\n",
    "# e.g. da3a3ea3-1b95-4b35-ad10-3ac541d4bde7"
   ]
  },
  {
   "cell_type": "code",
   "execution_count": 117,
   "metadata": {},
   "outputs": [],
   "source": [
    "import uuid"
   ]
  },
  {
   "cell_type": "code",
   "execution_count": 113,
   "metadata": {},
   "outputs": [
    {
     "name": "stdout",
     "output_type": "stream",
     "text": [
      "63fcc73a-4748-47f0-aecc-ffb05b73e01c\n"
     ]
    }
   ],
   "source": [
    "print(uuid.uuid4())"
   ]
  },
  {
   "cell_type": "code",
   "execution_count": 118,
   "metadata": {},
   "outputs": [],
   "source": [
    "class User(BaseModel):\n",
    "    id: uuid.UUID # each user has a unique identifier. Annote uuid to be uuid type. \n",
    "    name: str"
   ]
  },
  {
   "cell_type": "code",
   "execution_count": 119,
   "metadata": {},
   "outputs": [
    {
     "name": "stdout",
     "output_type": "stream",
     "text": [
      "id=UUID('e0d595db-c8ab-470b-a744-6552a6c07367') name='Allison'\n"
     ]
    }
   ],
   "source": [
    "try:\n",
    "    user = User(id=uuid.uuid4(), name=\"Allison\")\n",
    "    \n",
    "    # user = User(id=\"asdflksadjflj1329412a\", name=\"Allison\") # this does not follow the standard then it will throw and error. \n",
    "    print(user)\n",
    "except pydantic.ValidationError as e:\n",
    "    print(e)"
   ]
  },
  {
   "cell_type": "code",
   "execution_count": 121,
   "metadata": {},
   "outputs": [],
   "source": [
    "from pydantic import Field # Field is a function that returns a default value. \n",
    "\n",
    "class User(BaseModel):\n",
    "    id: uuid.UUID = Field(default_factory=lambda: uuid.uuid4()) # default factory is a function that returns a default value. \n",
    "    name: str"
   ]
  },
  {
   "cell_type": "code",
   "execution_count": 122,
   "metadata": {},
   "outputs": [
    {
     "data": {
      "text/plain": [
       "User(id=UUID('3f2819c3-4324-4593-90f4-e6b2c76ff29f'), name='Billy')"
      ]
     },
     "execution_count": 122,
     "metadata": {},
     "output_type": "execute_result"
    }
   ],
   "source": [
    "User(name=\"Billy\") # this includes a default factory"
   ]
  },
  {
   "cell_type": "code",
   "execution_count": 123,
   "metadata": {},
   "outputs": [],
   "source": [
    "# This also works the same. \n",
    "class User(BaseModel):\n",
    "    id: uuid.UUID = Field(default_factory=uuid.uuid4)\n",
    "    name: str"
   ]
  },
  {
   "cell_type": "code",
   "execution_count": 124,
   "metadata": {},
   "outputs": [
    {
     "data": {
      "text/plain": [
       "User(id=UUID('1ad7015c-ecfc-4c14-b539-6eb9c83c6b9d'), name='Billy')"
      ]
     },
     "execution_count": 124,
     "metadata": {},
     "output_type": "execute_result"
    }
   ],
   "source": [
    "User(name=\"Billy\")"
   ]
  },
  {
   "cell_type": "code",
   "execution_count": 125,
   "metadata": {},
   "outputs": [],
   "source": [
    "some_id = uuid.uuid4()"
   ]
  },
  {
   "cell_type": "code",
   "execution_count": 126,
   "metadata": {},
   "outputs": [
    {
     "data": {
      "text/plain": [
       "UUID('7836b6b2-f9b8-4cf3-ba3a-e7a48480976f')"
      ]
     },
     "execution_count": 126,
     "metadata": {},
     "output_type": "execute_result"
    }
   ],
   "source": [
    "some_id"
   ]
  },
  {
   "cell_type": "code",
   "execution_count": 127,
   "metadata": {},
   "outputs": [
    {
     "data": {
      "text/plain": [
       "User(id=UUID('7836b6b2-f9b8-4cf3-ba3a-e7a48480976f'), name='Allison')"
      ]
     },
     "execution_count": 127,
     "metadata": {},
     "output_type": "execute_result"
    }
   ],
   "source": [
    "User(id=some_id, name=\"Allison\")"
   ]
  },
  {
   "cell_type": "markdown",
   "metadata": {},
   "source": [
    "##### `Immutable Attributes`\n",
    "- Inability to change an object after it is created. "
   ]
  },
  {
   "cell_type": "markdown",
   "metadata": {},
   "source": [
    "Immutable objects have several desirable characteristics:\n",
    "\n",
    "- **They contribute to data integrity**: Immutable attributes prevent accidental or unauthorized modifications, ensuring the consistency of data.\n",
    "- **They are predictable**: Having attributes that don't change state after creation makes the behavior of your models more predictable.\n",
    "- **Concurrency safety**: In concurrent programming, immutable objects are safer to use as they can't be modified after creation, reducing the risk of data races.\n"
   ]
  },
  {
   "cell_type": "code",
   "execution_count": 128,
   "metadata": {},
   "outputs": [],
   "source": [
    "from pydantic import BaseModel, ValidationError\n",
    "\n",
    "class User(BaseModel):\n",
    "    name: str\n",
    "    age: int\n",
    "    \n",
    "    class Config:\n",
    "        frozen = True"
   ]
  },
  {
   "cell_type": "code",
   "execution_count": 239,
   "metadata": {},
   "outputs": [
    {
     "name": "stdout",
     "output_type": "stream",
     "text": [
      "1 validation error for User\n",
      "name\n",
      "  Instance is frozen [type=frozen_instance, input_value='Billy', input_type=str]\n",
      "    For further information visit https://errors.pydantic.dev/2.5/v/frozen_instance\n"
     ]
    }
   ],
   "source": [
    "try:\n",
    "    user = User(name=\"Alice\", age=30) #instantiate model\n",
    "    user.name = \"Billy\" # this will throw an error since the model is frozen. \n",
    "    print(user.name)\n",
    "except ValidationError as e:\n",
    "    print(e)"
   ]
  },
  {
   "cell_type": "code",
   "execution_count": 129,
   "metadata": {},
   "outputs": [],
   "source": [
    "# Same as above but using ConfigDict. \n",
    "from pydantic import ConfigDict # ConfigDict is a class that allows us to configure the model. "
   ]
  },
  {
   "cell_type": "code",
   "execution_count": 130,
   "metadata": {},
   "outputs": [],
   "source": [
    "class User(BaseModel):\n",
    "    model_config: ConfigDict = { \"frozen\": True } # model config is a dictionary that allows us to configure the model. \n",
    "    \n",
    "    name: str\n",
    "    age: int"
   ]
  },
  {
   "cell_type": "code",
   "execution_count": 132,
   "metadata": {},
   "outputs": [
    {
     "name": "stdout",
     "output_type": "stream",
     "text": [
      "1 validation error for User\n",
      "name\n",
      "  Instance is frozen [type=frozen_instance, input_value='Billy', input_type=str]\n",
      "    For further information visit https://errors.pydantic.dev/2.5/v/frozen_instance\n"
     ]
    }
   ],
   "source": [
    "try:\n",
    "    user = User(name=\"Alice\", age=30)\n",
    "    # user.name = \"Billy\" # this will throw an error since the model is frozen. \n",
    "    print(user.name)\n",
    "except ValidationError as e:\n",
    "    print(e)"
   ]
  },
  {
   "cell_type": "code",
   "execution_count": 133,
   "metadata": {},
   "outputs": [],
   "source": [
    "# Immutability at attrbute level - use frozen keyword along with model_field. \n",
    "from pydantic import Field\n",
    "\n",
    "class User(BaseModel):    \n",
    "    id: int = Field(frozen=True)\n",
    "    name: str\n",
    "    age: int"
   ]
  },
  {
   "cell_type": "code",
   "execution_count": 248,
   "metadata": {},
   "outputs": [
    {
     "name": "stdout",
     "output_type": "stream",
     "text": [
      "123 Billy\n",
      "1 validation error for User\n",
      "id\n",
      "  Field is frozen [type=frozen_field, input_value=456, input_type=int]\n",
      "    For further information visit https://errors.pydantic.dev/2.5/v/frozen_field\n"
     ]
    }
   ],
   "source": [
    "try:\n",
    "    user = User(id=123, name=\"Alice\", age=30)\n",
    "    user.name = \"Billy\"\n",
    "    print(user.id, user.name) # can repoint name it works since it isnot frozen but id wont work. \n",
    "    user.id = 456 # this will throw an error since the model is frozen. \n",
    "except ValidationError as e:\n",
    "    print(e)"
   ]
  },
  {
   "cell_type": "markdown",
   "metadata": {},
   "source": [
    "##### `Additional Properties`"
   ]
  },
  {
   "cell_type": "code",
   "execution_count": 135,
   "metadata": {},
   "outputs": [],
   "source": [
    "from pydantic import BaseModel, Field\n",
    "from uuid import UUID, uuid4\n",
    "\n",
    "class Product(BaseModel):\n",
    "    id: UUID = Field(frozen=True, default_factory=uuid4) # immediatrly created if not provided\n",
    "    name: str"
   ]
  },
  {
   "cell_type": "code",
   "execution_count": 137,
   "metadata": {},
   "outputs": [
    {
     "name": "stdout",
     "output_type": "stream",
     "text": [
      "id=UUID('ccc38bec-3018-4307-8eaa-3dc402e0139b') name='Chair'\n"
     ]
    }
   ],
   "source": [
    "try:\n",
    "    # product = Product(name=\"Chair\")\n",
    "    \n",
    "    product = Product(name=\"Chair\", price=202) # price is not defined in the model. Pydantic simply discards price. \n",
    "    print(product)\n",
    "except ValueError as e:\n",
    "    print(e)"
   ]
  },
  {
   "cell_type": "code",
   "execution_count": 138,
   "metadata": {},
   "outputs": [],
   "source": [
    "class Product(BaseModel):\n",
    "    id: UUID = Field(frozen=True, default_factory=uuid4)\n",
    "    name: str\n",
    "    \n",
    "    class Config:\n",
    "        # extra =\"ignore\" # default - pydantic wont raise error when additional attributes encoutered. \n",
    "        extra =\"forbid\" # pydantic will raise error when additional attributes encoutered. "
   ]
  },
  {
   "cell_type": "code",
   "execution_count": 139,
   "metadata": {},
   "outputs": [
    {
     "name": "stdout",
     "output_type": "stream",
     "text": [
      "1 validation error for Product\n",
      "price\n",
      "  Extra inputs are not permitted [type=extra_forbidden, input_value=202, input_type=int]\n",
      "    For further information visit https://errors.pydantic.dev/2.5/v/extra_forbidden\n"
     ]
    }
   ],
   "source": [
    "try:\n",
    "    # product = Product(name=\"Chair\")\n",
    "    \n",
    "    product = Product(name=\"Chair\", price=202) # since price is not defined in the model, pydantic will raise an error. \n",
    "    print(product)\n",
    "except ValidationError as e:\n",
    "    print(e)"
   ]
  },
  {
   "cell_type": "code",
   "execution_count": 140,
   "metadata": {},
   "outputs": [],
   "source": [
    "class Product(BaseModel):\n",
    "    id: UUID = Field(frozen=True, default_factory=uuid4)\n",
    "    name: str\n",
    "    \n",
    "    class Config:\n",
    "        # extra =\"ignore\" # default\n",
    "        # extra = \"forbid\"\n",
    "        extra = \"allow\""
   ]
  },
  {
   "cell_type": "code",
   "execution_count": 141,
   "metadata": {},
   "outputs": [
    {
     "name": "stdout",
     "output_type": "stream",
     "text": [
      "id=UUID('42eb6fd8-4c03-4099-9d3a-a26d2f424903') name='Chair' price=202 weight=20.3\n"
     ]
    }
   ],
   "source": [
    "try:\n",
    "    # product = Product(name=\"Chair\")\n",
    "    \n",
    "    product = Product(name=\"Chair\", price=202, weight=20.3) # additional attribute is allowed. \n",
    "    print(product)\n",
    "except ValidationError as e:\n",
    "    print(e)"
   ]
  },
  {
   "cell_type": "markdown",
   "metadata": {},
   "source": [
    "##### `Enumerations`"
   ]
  },
  {
   "cell_type": "markdown",
   "metadata": {},
   "source": [
    "> * <span style=\"font-family: Monaco; font-size:.8em;\">what are enums?</span>\n",
    "> <ul style=\"font-family: Monaco; font-size:.6em;\">\n",
    "> <li style=\"margin-left: 0.6em;\">a set of named constants</li>\n",
    "> <li style=\"margin-left: 0.6em;\">defined in python by sub-classing enum.Enum</li>\n",
    "> </ul>"
   ]
  },
  {
   "cell_type": "code",
   "execution_count": 142,
   "metadata": {},
   "outputs": [],
   "source": [
    "from enum import Enum"
   ]
  },
  {
   "cell_type": "code",
   "execution_count": 143,
   "metadata": {},
   "outputs": [],
   "source": [
    "class Color(Enum):\n",
    "    RED = 'red'\n",
    "    GREEN = 'green'\n",
    "    BLUE = 'blue'"
   ]
  },
  {
   "cell_type": "code",
   "execution_count": 144,
   "metadata": {},
   "outputs": [
    {
     "data": {
      "text/plain": [
       "<Color.GREEN: 'green'>"
      ]
     },
     "execution_count": 144,
     "metadata": {},
     "output_type": "execute_result"
    }
   ],
   "source": [
    "Color.GREEN"
   ]
  },
  {
   "cell_type": "code",
   "execution_count": 145,
   "metadata": {},
   "outputs": [],
   "source": [
    "class Item(BaseModel):\n",
    "    name: str\n",
    "    color: Color"
   ]
  },
  {
   "cell_type": "code",
   "execution_count": 146,
   "metadata": {},
   "outputs": [
    {
     "data": {
      "text/plain": [
       "Item(name='chair', color=<Color.RED: 'red'>)"
      ]
     },
     "execution_count": 146,
     "metadata": {},
     "output_type": "execute_result"
    }
   ],
   "source": [
    "Item(name=\"chair\", color=\"red\")"
   ]
  },
  {
   "cell_type": "code",
   "execution_count": 148,
   "metadata": {},
   "outputs": [],
   "source": [
    "# Item(name=\"chair\", color=\"pink\") # Fails: Input should be 'red', 'green' or 'blue' [type=enum, input_value='pink', input_type=str]"
   ]
  },
  {
   "cell_type": "markdown",
   "metadata": {},
   "source": [
    "##### `For Better Performance: Literals`"
   ]
  },
  {
   "cell_type": "code",
   "execution_count": 149,
   "metadata": {},
   "outputs": [],
   "source": [
    "from enum import Enum\n",
    "from pydantic import BaseModel, ValidationError\n",
    "from typing import Literal # literal value, not variable or expression. \n",
    "\n",
    "class Color(Enum):\n",
    "    RED = 'red'\n",
    "    GREEN = 'green'\n",
    "    BLUE = 'blue'\n",
    "\n",
    "class ItemWithEnum(BaseModel):\n",
    "    name: str\n",
    "    color: Color\n",
    "    \n",
    "class ItemWithLiteral(BaseModel):\n",
    "    name: str\n",
    "    color: Literal[\"red\", \"green\", \"blue\"]"
   ]
  },
  {
   "cell_type": "code",
   "execution_count": 150,
   "metadata": {},
   "outputs": [
    {
     "name": "stdout",
     "output_type": "stream",
     "text": [
      "1 validation error for ItemWithLiteral\n",
      "color\n",
      "  Input should be 'red', 'green' or 'blue' [type=literal_error, input_value='grey', input_type=str]\n",
      "    For further information visit https://errors.pydantic.dev/2.5/v/literal_error\n"
     ]
    }
   ],
   "source": [
    "try: \n",
    "    # item = ItemWithEnum(name=\"Chair\", color=\"grey\")\n",
    "    item = ItemWithLiteral(name=\"Chair\", color=\"grey\")\n",
    "    print(item)\n",
    "except ValidationError as e:\n",
    "    print(e)"
   ]
  },
  {
   "cell_type": "code",
   "execution_count": 151,
   "metadata": {},
   "outputs": [],
   "source": [
    "# TypeAdapter\n",
    "# TypeAdapter is a class that allows us to convert between different types. \n",
    "# It is faster than the built-in type() function. "
   ]
  },
  {
   "cell_type": "code",
   "execution_count": null,
   "metadata": {},
   "outputs": [],
   "source": [
    "#!pipenv install \"pydantic==2.5.3\" \"pydantic-core==2.14.5\""
   ]
  },
  {
   "cell_type": "code",
   "execution_count": 156,
   "metadata": {},
   "outputs": [],
   "source": [
    "from pydantic import TypeAdapter # TypeAdapter is a class that allows us to convert between different types. \n",
    "# This does not work due to missing IncEx which is written for 1.x"
   ]
  },
  {
   "cell_type": "code",
   "execution_count": 157,
   "metadata": {},
   "outputs": [],
   "source": [
    "literal = Literal[\"red\", \"green\", \"blue\"]\n",
    "\n",
    "class Color(Enum):\n",
    "    RED = 'red'\n",
    "    GREEN = 'green'\n",
    "    BLUE = 'blue'\n",
    "    \n",
    "lit_adapter = TypeAdapter(literal)\n",
    "enum_adapter = TypeAdapter(Color)"
   ]
  },
  {
   "cell_type": "code",
   "execution_count": 159,
   "metadata": {},
   "outputs": [],
   "source": [
    "from timeit import timeit"
   ]
  },
  {
   "cell_type": "code",
   "execution_count": 160,
   "metadata": {},
   "outputs": [],
   "source": [
    "res1 = timeit(lambda: lit_adapter.validate_python(\"red\"), number=1000)\n",
    "res2 = timeit(lambda: enum_adapter.validate_python(\"red\"), number=1000)"
   ]
  },
  {
   "cell_type": "code",
   "execution_count": 161,
   "metadata": {},
   "outputs": [
    {
     "name": "stdout",
     "output_type": "stream",
     "text": [
      "0.0006695420015603304 0.00023733297712169588\n"
     ]
    }
   ],
   "source": [
    "print(res2, res1)"
   ]
  },
  {
   "cell_type": "code",
   "execution_count": 162,
   "metadata": {},
   "outputs": [
    {
     "data": {
      "text/plain": [
       "2.821108173336625"
      ]
     },
     "execution_count": 162,
     "metadata": {},
     "output_type": "execute_result"
    }
   ],
   "source": [
    "res2/res1"
   ]
  },
  {
   "cell_type": "code",
   "execution_count": 163,
   "metadata": {},
   "outputs": [
    {
     "name": "stdout",
     "output_type": "stream",
     "text": [
      "red\n",
      "Color.RED\n"
     ]
    }
   ],
   "source": [
    "from pydantic import TypeAdapter\n",
    "from enum import Enum\n",
    "from typing import Literal\n",
    "\n",
    "# Define your types\n",
    "literal = Literal[\"red\", \"green\", \"blue\"]\n",
    "\n",
    "class Color(Enum):\n",
    "    RED = 'red'\n",
    "    GREEN = 'green'\n",
    "    BLUE = 'blue'\n",
    "    \n",
    "# Create type adapters\n",
    "lit_adapter = TypeAdapter(literal)\n",
    "enum_adapter = TypeAdapter(Color)\n",
    "\n",
    "# Test validation\n",
    "print(lit_adapter.validate_python(\"red\"))\n",
    "print(enum_adapter.validate_python(\"red\"))"
   ]
  },
  {
   "cell_type": "markdown",
   "metadata": {},
   "source": [
    "### `Custom Validators`"
   ]
  },
  {
   "cell_type": "markdown",
   "metadata": {},
   "source": [
    "##### `Customizing Field Validators`"
   ]
  },
  {
   "cell_type": "code",
   "execution_count": 164,
   "metadata": {},
   "outputs": [
    {
     "name": "stdout",
     "output_type": "stream",
     "text": [
      "1 validation error for User\n",
      "age\n",
      "  Input should be greater than 31 [type=greater_than, input_value=30, input_type=int]\n",
      "    For further information visit https://errors.pydantic.dev/2.5/v/greater_than\n"
     ]
    }
   ],
   "source": [
    "from pydantic import BaseModel, Field, ValidationError\n",
    "\n",
    "class User(BaseModel):\n",
    "    name: str\n",
    "    age: int = Field(gt=31) # age is an int and also greater then 31\n",
    "\n",
    "try: \n",
    "    user = User(name=\"Alice\", age=30)\n",
    "    print(user)\n",
    "except ValidationError as e:\n",
    "    print(e)"
   ]
  },
  {
   "cell_type": "code",
   "execution_count": 166,
   "metadata": {},
   "outputs": [],
   "source": [
    "from pydantic import field_validator # used to be called validator - depreciated - v1. "
   ]
  },
  {
   "cell_type": "code",
   "execution_count": 170,
   "metadata": {},
   "outputs": [],
   "source": [
    "# users age is at least 18 but also an even number - a pack of logic quite bespoke. \n",
    "class User(BaseModel):\n",
    "    name: str\n",
    "    age: int = Field(gt=0)\n",
    "    \n",
    "    @field_validator(\"age\") # called after type validaton - after following instantiation of the model. Parametrized decorator\n",
    "    @classmethod # classmethod decorator is used to call the method without instantiating the class. \n",
    "    def validate_age(cls, v):\n",
    "        if v < 18 or v % 2 != 0:\n",
    "            raise ValueError(\"Age must be even and at least 18\")\n",
    "        return v"
   ]
  },
  {
   "cell_type": "code",
   "execution_count": 171,
   "metadata": {},
   "outputs": [
    {
     "ename": "ValidationError",
     "evalue": "1 validation error for User\nage\n  Input should be greater than 0 [type=greater_than, input_value=-30, input_type=int]\n    For further information visit https://errors.pydantic.dev/2.5/v/greater_than",
     "output_type": "error",
     "traceback": [
      "\u001b[0;31m---------------------------------------------------------------------------\u001b[0m",
      "\u001b[0;31mValidationError\u001b[0m                           Traceback (most recent call last)",
      "Cell \u001b[0;32mIn[171], line 1\u001b[0m\n\u001b[0;32m----> 1\u001b[0m \u001b[43mUser\u001b[49m\u001b[43m(\u001b[49m\u001b[43mname\u001b[49m\u001b[38;5;241;43m=\u001b[39;49m\u001b[38;5;124;43m\"\u001b[39;49m\u001b[38;5;124;43mAlice\u001b[39;49m\u001b[38;5;124;43m\"\u001b[39;49m\u001b[43m,\u001b[49m\u001b[43m \u001b[49m\u001b[43mage\u001b[49m\u001b[38;5;241;43m=\u001b[39;49m\u001b[38;5;241;43m-\u001b[39;49m\u001b[38;5;241;43m30\u001b[39;49m\u001b[43m)\u001b[49m \u001b[38;5;66;03m# field validator kicks in    \u001b[39;00m\n",
      "File \u001b[0;32m~/.local/share/virtualenvs/pydantic-nUC6vvIQ/lib/python3.11/site-packages/pydantic/main.py:164\u001b[0m, in \u001b[0;36mBaseModel.__init__\u001b[0;34m(__pydantic_self__, **data)\u001b[0m\n\u001b[1;32m    162\u001b[0m \u001b[38;5;66;03m# `__tracebackhide__` tells pytest and some other tools to omit this function from tracebacks\u001b[39;00m\n\u001b[1;32m    163\u001b[0m __tracebackhide__ \u001b[38;5;241m=\u001b[39m \u001b[38;5;28;01mTrue\u001b[39;00m\n\u001b[0;32m--> 164\u001b[0m \u001b[43m__pydantic_self__\u001b[49m\u001b[38;5;241;43m.\u001b[39;49m\u001b[43m__pydantic_validator__\u001b[49m\u001b[38;5;241;43m.\u001b[39;49m\u001b[43mvalidate_python\u001b[49m\u001b[43m(\u001b[49m\u001b[43mdata\u001b[49m\u001b[43m,\u001b[49m\u001b[43m \u001b[49m\u001b[43mself_instance\u001b[49m\u001b[38;5;241;43m=\u001b[39;49m\u001b[43m__pydantic_self__\u001b[49m\u001b[43m)\u001b[49m\n",
      "\u001b[0;31mValidationError\u001b[0m: 1 validation error for User\nage\n  Input should be greater than 0 [type=greater_than, input_value=-30, input_type=int]\n    For further information visit https://errors.pydantic.dev/2.5/v/greater_than"
     ]
    }
   ],
   "source": [
    "User(name=\"Alice\", age=-30) # field validator kicks in    "
   ]
  },
  {
   "cell_type": "code",
   "execution_count": 169,
   "metadata": {},
   "outputs": [
    {
     "ename": "ValidationError",
     "evalue": "1 validation error for User\nage\n  Value error, Age must be even and at least 18 [type=value_error, input_value=16, input_type=int]\n    For further information visit https://errors.pydantic.dev/2.5/v/value_error",
     "output_type": "error",
     "traceback": [
      "\u001b[0;31m---------------------------------------------------------------------------\u001b[0m",
      "\u001b[0;31mValidationError\u001b[0m                           Traceback (most recent call last)",
      "Cell \u001b[0;32mIn[169], line 1\u001b[0m\n\u001b[0;32m----> 1\u001b[0m \u001b[43mUser\u001b[49m\u001b[43m(\u001b[49m\u001b[43mname\u001b[49m\u001b[38;5;241;43m=\u001b[39;49m\u001b[38;5;124;43m\"\u001b[39;49m\u001b[38;5;124;43mAlice\u001b[39;49m\u001b[38;5;124;43m\"\u001b[39;49m\u001b[43m,\u001b[49m\u001b[43m \u001b[49m\u001b[43mage\u001b[49m\u001b[38;5;241;43m=\u001b[39;49m\u001b[38;5;241;43m16\u001b[39;49m\u001b[43m)\u001b[49m \u001b[38;5;66;03m# custom validator (after type checking and field validators)\u001b[39;00m\n",
      "File \u001b[0;32m~/.local/share/virtualenvs/pydantic-nUC6vvIQ/lib/python3.11/site-packages/pydantic/main.py:164\u001b[0m, in \u001b[0;36mBaseModel.__init__\u001b[0;34m(__pydantic_self__, **data)\u001b[0m\n\u001b[1;32m    162\u001b[0m \u001b[38;5;66;03m# `__tracebackhide__` tells pytest and some other tools to omit this function from tracebacks\u001b[39;00m\n\u001b[1;32m    163\u001b[0m __tracebackhide__ \u001b[38;5;241m=\u001b[39m \u001b[38;5;28;01mTrue\u001b[39;00m\n\u001b[0;32m--> 164\u001b[0m \u001b[43m__pydantic_self__\u001b[49m\u001b[38;5;241;43m.\u001b[39;49m\u001b[43m__pydantic_validator__\u001b[49m\u001b[38;5;241;43m.\u001b[39;49m\u001b[43mvalidate_python\u001b[49m\u001b[43m(\u001b[49m\u001b[43mdata\u001b[49m\u001b[43m,\u001b[49m\u001b[43m \u001b[49m\u001b[43mself_instance\u001b[49m\u001b[38;5;241;43m=\u001b[39;49m\u001b[43m__pydantic_self__\u001b[49m\u001b[43m)\u001b[49m\n",
      "\u001b[0;31mValidationError\u001b[0m: 1 validation error for User\nage\n  Value error, Age must be even and at least 18 [type=value_error, input_value=16, input_type=int]\n    For further information visit https://errors.pydantic.dev/2.5/v/value_error"
     ]
    }
   ],
   "source": [
    "User(name=\"Alice\", age=16) # custom validator (after type checking and field validators)"
   ]
  },
  {
   "cell_type": "code",
   "execution_count": 172,
   "metadata": {},
   "outputs": [
    {
     "data": {
      "text/plain": [
       "User(name='Alice', age=20)"
      ]
     },
     "execution_count": 172,
     "metadata": {},
     "output_type": "execute_result"
    }
   ],
   "source": [
    "User(name=\"Alice\", age=20) # this will work since age is an even number and at least 18. "
   ]
  },
  {
   "cell_type": "markdown",
   "metadata": {},
   "source": [
    "##### `Model-Level Validators`\n",
    "- validate 2 of the 4 - this can be done with type validation but model level validation is the prefferred level to implement such logic. "
   ]
  },
  {
   "cell_type": "code",
   "execution_count": 173,
   "metadata": {},
   "outputs": [],
   "source": [
    "from datetime import date\n",
    "from pydantic import BaseModel, ValidationError\n",
    "\n",
    "class ScheduledCourse(BaseModel):\n",
    "    department: str\n",
    "    course_number: int\n",
    "    start_date: date\n",
    "    end_date: date"
   ]
  },
  {
   "cell_type": "code",
   "execution_count": 174,
   "metadata": {},
   "outputs": [],
   "source": [
    "from pydantic import model_validator"
   ]
  },
  {
   "cell_type": "code",
   "execution_count": 175,
   "metadata": {},
   "outputs": [],
   "source": [
    "class ScheduledCourse(BaseModel):\n",
    "    department: str\n",
    "    course_number: int\n",
    "    start_date: date\n",
    "    end_date: date\n",
    "    \n",
    "    @model_validator(mode=\"before\") # before model is instantiator - more powerful then after. We interject before the model is created. \n",
    "    @classmethod\n",
    "    def validate_dates(cls, data: dict):\n",
    "        if data[\"start_date\"] > data[\"end_date\"]:\n",
    "            raise ValueError(\"Start date must be before end date for the course\")\n",
    "        return data # return data dictionary"
   ]
  },
  {
   "cell_type": "code",
   "execution_count": 176,
   "metadata": {},
   "outputs": [
    {
     "name": "stdout",
     "output_type": "stream",
     "text": [
      "1 validation error for ScheduledCourse\n",
      "  Value error, Start date must be before end date for the course [type=value_error, input_value={'start_date': '2024-12-2...end_date': '2024-11-10'}, input_type=dict]\n",
      "    For further information visit https://errors.pydantic.dev/2.5/v/value_error\n"
     ]
    }
   ],
   "source": [
    "try:\n",
    "    course = ScheduledCourse(\n",
    "        start_date=\"2024-12-22\", \n",
    "        end_date=\"2024-11-10\"\n",
    "        )\n",
    "    print(course)\n",
    "except ValidationError as e:\n",
    "    print(e)"
   ]
  },
  {
   "cell_type": "code",
   "execution_count": 177,
   "metadata": {},
   "outputs": [],
   "source": [
    "class ScheduledCourse(BaseModel):\n",
    "    department: str\n",
    "    course_number: int\n",
    "    start_date: date\n",
    "    end_date: date\n",
    "    \n",
    "    @model_validator(mode=\"after\") # after model is instantiator - less powerful then before. We interject after the model is created. \n",
    "    def validate_dates(self): # Self refers to the instance of model after it is created.\n",
    "        # if data[\"start_date\"] > data[\"end_date\"]:\n",
    "        if self.start_date > self.end_date:\n",
    "            raise ValueError(\"Start date must be before end date for the course\")\n",
    "        # return data\n",
    "        return self"
   ]
  },
  {
   "cell_type": "code",
   "execution_count": 178,
   "metadata": {},
   "outputs": [
    {
     "name": "stdout",
     "output_type": "stream",
     "text": [
      "department='cs' course_number=101 start_date=datetime.date(2024, 12, 22) end_date=datetime.date(2026, 11, 10)\n"
     ]
    }
   ],
   "source": [
    "try:\n",
    "    # course = ScheduledCourse(   # this fails because default values are not provided for department and course_number\n",
    "    #     start_date=\"2024-12-22\", \n",
    "    #     end_date=\"2024-11-10\"\n",
    "    #     )\n",
    "    \n",
    "    # course = ScheduledCourse(   # this fails because start date is greater then end date. But instantiator is succesful\n",
    "    #     start_date=\"2024-12-22\", \n",
    "    #     end_date=\"2024-11-10\",\n",
    "    #     course_number=101,\n",
    "    #     department=\"cs\"\n",
    "    #     )\n",
    "    \n",
    "    course = ScheduledCourse(\n",
    "        start_date=\"2024-12-22\", \n",
    "        end_date=\"2026-11-10\",\n",
    "        course_number=101,\n",
    "        department=\"cs\"\n",
    "        )\n",
    "    print(course)\n",
    "except ValidationError as e:\n",
    "    print(e)"
   ]
  },
  {
   "cell_type": "markdown",
   "metadata": {},
   "source": [
    "##### `A Closer Look At Error Objects`"
   ]
  },
  {
   "cell_type": "code",
   "execution_count": 179,
   "metadata": {},
   "outputs": [],
   "source": [
    "from pydantic import ValidationError # correct type but inappropriate value - validation error. "
   ]
  },
  {
   "cell_type": "code",
   "execution_count": 180,
   "metadata": {},
   "outputs": [
    {
     "data": {
      "text/plain": [
       "True"
      ]
     },
     "execution_count": 180,
     "metadata": {},
     "output_type": "execute_result"
    }
   ],
   "source": [
    "issubclass(ValidationError, ValueError)"
   ]
  },
  {
   "cell_type": "code",
   "execution_count": 181,
   "metadata": {},
   "outputs": [
    {
     "data": {
      "text/plain": [
       "(pydantic_core._pydantic_core.ValidationError,\n",
       " ValueError,\n",
       " Exception,\n",
       " BaseException,\n",
       " object)"
      ]
     },
     "execution_count": 181,
     "metadata": {},
     "output_type": "execute_result"
    }
   ],
   "source": [
    "ValidationError.__mro__  # method resolution order\n",
    "# ValidationError is a subclass of ValueError. \n",
    "# ValidationError is a subclass of Exception. \n",
    "# ValidationError is a subclass of BaseException. \n",
    "# ValidationError is a subclass of object. \n",
    "# ValidationError is a class. \n",
    "# ValidationError is a type. "
   ]
  },
  {
   "cell_type": "code",
   "execution_count": 182,
   "metadata": {},
   "outputs": [],
   "source": [
    "class User(BaseModel):\n",
    "    username: str\n",
    "    password: str\n",
    "    \n",
    "    @field_validator(\"password\")\n",
    "    @classmethod\n",
    "    def validate_password(cls, v):\n",
    "        if len(v) < 8 or not any(char.isdigit() for char in v): # 8 char long and at least one digit. \n",
    "            raise ValueError(\"Password must be at least 8 chars long and contains at least one digit\")\n",
    "        return v"
   ]
  },
  {
   "cell_type": "code",
   "execution_count": 183,
   "metadata": {},
   "outputs": [
    {
     "name": "stdout",
     "output_type": "stream",
     "text": [
      "{(('password',), 'Value error, Password must be at least 8 chars long and contains at least one digit')}\n"
     ]
    }
   ],
   "source": [
    "try:\n",
    "    user = User(username=\"Andy\", password=\"abcabcabc\")\n",
    "except ValidationError as e:\n",
    "    # print(e)\n",
    "    # print(str(e))\n",
    "    # print(e.json(indent=2))\n",
    "    \n",
    "    # print(e.errors()) # errors dict. \n",
    "    # print(e.errors()[0][\"type\"])\n",
    "    print(\n",
    "        {\n",
    "            (error['loc'], error['msg']) for error in e.errors()\n",
    "        }\n",
    "    )"
   ]
  },
  {
   "cell_type": "code",
   "execution_count": null,
   "metadata": {},
   "outputs": [],
   "source": [
    "# str(e) -> human-readable repr of the error object\n",
    "# __str__, __repr__"
   ]
  },
  {
   "cell_type": "markdown",
   "metadata": {},
   "source": [
    "### `Model Serialization And Deserialization`"
   ]
  },
  {
   "cell_type": "markdown",
   "metadata": {},
   "source": [
    "##### `Instance Serialization To Dict And JSON`\n",
    "- CrewAI!!!!!!! - Convert python object to a format that is more universally usable. Typically this involves JSON. Serialization is a process of converting an object to a format that can be easily stored and transmitted and subsequently reconstructed. In python especially in web development most serialization formats are JSON and dictioniers. "
   ]
  },
  {
   "cell_type": "code",
   "execution_count": 184,
   "metadata": {},
   "outputs": [],
   "source": [
    "from datetime import date\n",
    "from pydantic import BaseModel, model_validator\n",
    "\n",
    "\n",
    "class ScheduledCourse(BaseModel):\n",
    "    department: str\n",
    "    course_number: int\n",
    "    start_date: date\n",
    "    end_date: date\n",
    "\n",
    "    @model_validator(mode=\"after\")\n",
    "    def validate_dates(self):\n",
    "        if self.start_date > self.end_date:\n",
    "            raise ValueError('Start date must be before end date')\n",
    "        return self"
   ]
  },
  {
   "cell_type": "code",
   "execution_count": 185,
   "metadata": {},
   "outputs": [],
   "source": [
    "course = ScheduledCourse(\n",
    "    department=\"CS\",\n",
    "    course_number=101,\n",
    "    start_date=\"2024-01-23\",\n",
    "    end_date=\"2024-09-23\"\n",
    ")"
   ]
  },
  {
   "cell_type": "code",
   "execution_count": 186,
   "metadata": {},
   "outputs": [
    {
     "data": {
      "text/plain": [
       "{'department': 'CS',\n",
       " 'course_number': 101,\n",
       " 'start_date': datetime.date(2024, 1, 23),\n",
       " 'end_date': datetime.date(2024, 9, 23)}"
      ]
     },
     "execution_count": 186,
     "metadata": {},
     "output_type": "execute_result"
    }
   ],
   "source": [
    "course.model_dump() # dict representation of pydantic model. "
   ]
  },
  {
   "cell_type": "code",
   "execution_count": 187,
   "metadata": {},
   "outputs": [
    {
     "data": {
      "text/plain": [
       "'{\"department\":\"CS\",\"course_number\":101,\"start_date\":\"2024-01-23\",\"end_date\":\"2024-09-23\"}'"
      ]
     },
     "execution_count": 187,
     "metadata": {},
     "output_type": "execute_result"
    }
   ],
   "source": [
    "course.model_dump_json() # convert to json string by calling the json method. Json string. Dict version and json string are not the same - json is a text represnetation of that dict. Dict uses single quotes, json standard uses double quotes. Dict uses None, json uses null. Dict uses capitalized True and False, json uses true and false. "
   ]
  },
  {
   "cell_type": "markdown",
   "metadata": {},
   "source": [
    "##### `Field Exclusions`\n",
    "- We may need to serialize only a portion of the data. Pydantic allows finegrain control to include or exclude items. "
   ]
  },
  {
   "cell_type": "code",
   "execution_count": 188,
   "metadata": {},
   "outputs": [],
   "source": [
    "from datetime import date\n",
    "from pydantic import BaseModel, model_validator\n",
    "\n",
    "class ScheduledCourse(BaseModel):\n",
    "    department: str\n",
    "    course_number: int\n",
    "    start_date: date\n",
    "    end_date: date\n",
    "\n",
    "    @model_validator(mode=\"after\")\n",
    "    def validate_dates(self):\n",
    "        if self.start_date > self.end_date:\n",
    "            raise ValueError('Start date must be before end date')\n",
    "        return self"
   ]
  },
  {
   "cell_type": "code",
   "execution_count": 189,
   "metadata": {},
   "outputs": [
    {
     "data": {
      "text/plain": [
       "'{\"department\":\"CS\",\"course_number\":101,\"start_date\":\"2021-01-01\",\"end_date\":\"2021-01-01\"}'"
      ]
     },
     "execution_count": 189,
     "metadata": {},
     "output_type": "execute_result"
    }
   ],
   "source": [
    "# this is everything\n",
    "course = ScheduledCourse(department=\"CS\", course_number=101, start_date=date(2021, 1, 1), end_date=date(2021, 1, 1))\n",
    "course.model_dump_json()"
   ]
  },
  {
   "cell_type": "code",
   "execution_count": 191,
   "metadata": {},
   "outputs": [
    {
     "data": {
      "text/plain": [
       "'{\"start_date\":\"2021-01-01\",\"end_date\":\"2021-01-01\"}'"
      ]
     },
     "execution_count": 191,
     "metadata": {},
     "output_type": "execute_result"
    }
   ],
   "source": [
    "# this is exclude department and course_number\n",
    "course.model_dump_json(exclude={\"department\", \"course_number\"})\n"
   ]
  },
  {
   "cell_type": "code",
   "execution_count": 192,
   "metadata": {},
   "outputs": [
    {
     "data": {
      "text/plain": [
       "'{\"department\":\"CS\",\"course_number\":101}'"
      ]
     },
     "execution_count": 192,
     "metadata": {},
     "output_type": "execute_result"
    }
   ],
   "source": [
    "# this is include department and course_number\n",
    "course.model_dump_json(include={\"department\", \"course_number\"})"
   ]
  },
  {
   "cell_type": "code",
   "execution_count": 338,
   "metadata": {},
   "outputs": [],
   "source": [
    "# exclude_unset - Any attibutes that are not part of the value are excluded. "
   ]
  },
  {
   "cell_type": "code",
   "execution_count": 193,
   "metadata": {},
   "outputs": [],
   "source": [
    "class ScheduledCourse(BaseModel):\n",
    "    department: str = \"?\" # default values so not required!!! because there is a default value. \n",
    "    course_number: int\n",
    "    start_date: date = date.today() # default values so not required!!! because there is a default value. \n",
    "    end_date: date\n",
    "\n",
    "    @model_validator(mode=\"after\")\n",
    "    def validate_dates(self):\n",
    "        if self.start_date > self.end_date:\n",
    "            raise ValueError('Start date must be before end date')\n",
    "        return self"
   ]
  },
  {
   "cell_type": "code",
   "execution_count": 195,
   "metadata": {},
   "outputs": [],
   "source": [
    "course = ScheduledCourse(\n",
    "    course_number=101, \n",
    "    end_date=date(2026, 1, 1)\n",
    ")"
   ]
  },
  {
   "cell_type": "code",
   "execution_count": 197,
   "metadata": {},
   "outputs": [
    {
     "data": {
      "text/plain": [
       "'{\"course_number\":101,\"end_date\":\"2026-01-01\"}'"
      ]
     },
     "execution_count": 197,
     "metadata": {},
     "output_type": "execute_result"
    }
   ],
   "source": [
    "course.model_dump_json(exclude_unset=True) # exclude the attributes that are not part of the value.  - logical excludor. Our serilized instance excludes the unset values, defaults. "
   ]
  },
  {
   "cell_type": "code",
   "execution_count": 198,
   "metadata": {},
   "outputs": [],
   "source": [
    "course = ScheduledCourse(\n",
    "    course_number=101, \n",
    "    end_date=date(2026, 1, 1),\n",
    "    department=\"?\" # sepcify department at model instantioan but setting to a default value. \n",
    ")"
   ]
  },
  {
   "cell_type": "code",
   "execution_count": 200,
   "metadata": {},
   "outputs": [
    {
     "data": {
      "text/plain": [
       "'{\"department\":\"?\",\"course_number\":101,\"end_date\":\"2026-01-01\"}'"
      ]
     },
     "execution_count": 200,
     "metadata": {},
     "output_type": "execute_result"
    }
   ],
   "source": [
    "course.model_dump_json(exclude_unset=True)"
   ]
  },
  {
   "cell_type": "code",
   "execution_count": 201,
   "metadata": {},
   "outputs": [
    {
     "data": {
      "text/plain": [
       "'{\"course_number\":101,\"end_date\":\"2026-01-01\"}'"
      ]
     },
     "execution_count": 201,
     "metadata": {},
     "output_type": "execute_result"
    }
   ],
   "source": [
    "course.model_dump_json(exclude_defaults=True)"
   ]
  },
  {
   "cell_type": "markdown",
   "metadata": {},
   "source": [
    "##### `JSON Schema`\n",
    "- What if we wanted to serialize data model itself instead of instance itself. into a structuire that indicates attributes and types - these are called schemas. Blue prints of data structure. Describe attributes of data structures. \n",
    "- formalization of data model is key objective - egenrate documentation for example - full blown API documentation withut calling just based on JSON schema. "
   ]
  },
  {
   "cell_type": "markdown",
   "metadata": {},
   "source": [
    "> * <span style=\"font-family: Monaco; font-size:.8em;\">what are schemas?</span>\n",
    "> <ul style=\"font-family: Monaco; font-size:.6em;\">\n",
    "> <li style=\"margin-left: 0.6em;\">schemas are blueprints for data structures</li>\n",
    "> <li style=\"margin-left: 0.6em;\">they describe the shape of a structure in the abstract</li>\n",
    "> <li style=\"margin-left: 0.6em;\">widely useful in codegen, documentation, automation, etc</li>\n",
    "> <li style=\"margin-left: 0.6em;\">JSON Schema is the dominant standard in the JSON ecosystem</li>\n",
    "> </ul>"
   ]
  },
  {
   "cell_type": "code",
   "execution_count": 202,
   "metadata": {},
   "outputs": [],
   "source": [
    "class ScheduledCourse(BaseModel):\n",
    "    department: str = \"?\"\n",
    "    course_number: int\n",
    "    start_date: date = date.today()\n",
    "    end_date: date\n",
    "\n",
    "    @model_validator(mode=\"after\")\n",
    "    def validate_dates(self):\n",
    "        if self.start_date > self.end_date:\n",
    "            raise ValueError('Start date must be before end date')\n",
    "        return self"
   ]
  },
  {
   "cell_type": "code",
   "execution_count": 203,
   "metadata": {},
   "outputs": [
    {
     "data": {
      "text/plain": [
       "{'properties': {'department': {'default': '?',\n",
       "   'title': 'Department',\n",
       "   'type': 'string'},\n",
       "  'course_number': {'title': 'Course Number', 'type': 'integer'},\n",
       "  'start_date': {'default': '2024-11-30',\n",
       "   'format': 'date',\n",
       "   'title': 'Start Date',\n",
       "   'type': 'string'},\n",
       "  'end_date': {'format': 'date', 'title': 'End Date', 'type': 'string'}},\n",
       " 'required': ['course_number', 'end_date'],\n",
       " 'title': 'ScheduledCourse',\n",
       " 'type': 'object'}"
      ]
     },
     "execution_count": 203,
     "metadata": {},
     "output_type": "execute_result"
    }
   ],
   "source": [
    "ScheduledCourse.model_json_schema() # this is the schema of the data model. The class and not the instance.\n",
    "# the output is dict of dictionaries."
   ]
  },
  {
   "cell_type": "code",
   "execution_count": 204,
   "metadata": {},
   "outputs": [],
   "source": [
    "import json"
   ]
  },
  {
   "cell_type": "code",
   "execution_count": 205,
   "metadata": {},
   "outputs": [
    {
     "name": "stdout",
     "output_type": "stream",
     "text": [
      "{\n",
      "  \"properties\": {\n",
      "    \"department\": {\n",
      "      \"default\": \"?\",\n",
      "      \"title\": \"Department\",\n",
      "      \"type\": \"string\"\n",
      "    },\n",
      "    \"course_number\": {\n",
      "      \"title\": \"Course Number\",\n",
      "      \"type\": \"integer\"\n",
      "    },\n",
      "    \"start_date\": {\n",
      "      \"default\": \"2024-11-30\",\n",
      "      \"format\": \"date\",\n",
      "      \"title\": \"Start Date\",\n",
      "      \"type\": \"string\"\n",
      "    },\n",
      "    \"end_date\": {\n",
      "      \"format\": \"date\",\n",
      "      \"title\": \"End Date\",\n",
      "      \"type\": \"string\"\n",
      "    }\n",
      "  },\n",
      "  \"required\": [\n",
      "    \"course_number\",\n",
      "    \"end_date\"\n",
      "  ],\n",
      "  \"title\": \"ScheduledCourse\",\n",
      "  \"type\": \"object\"\n",
      "}\n"
     ]
    }
   ],
   "source": [
    "print(json.dumps(ScheduledCourse.model_json_schema(), indent=2)) # to make it more readble convert to jason scheme and print. Json pydantic serialization helps that out out or input is aligened with what is expected. "
   ]
  },
  {
   "cell_type": "code",
   "execution_count": 206,
   "metadata": {},
   "outputs": [],
   "source": [
    "from typing import List, Optional\n",
    "\n",
    "class Item(BaseModel):\n",
    "    name: str\n",
    "    description: Optional[str] = None\n",
    "\n",
    "class Order(BaseModel):\n",
    "    id: int\n",
    "    items: List[Item]"
   ]
  },
  {
   "cell_type": "code",
   "execution_count": 355,
   "metadata": {},
   "outputs": [],
   "source": [
    "# $defs - we do this by printing out model_json_schema."
   ]
  },
  {
   "cell_type": "code",
   "execution_count": 207,
   "metadata": {},
   "outputs": [
    {
     "name": "stdout",
     "output_type": "stream",
     "text": [
      "{\n",
      "  \"$defs\": {\n",
      "    \"Item\": {\n",
      "      \"properties\": {\n",
      "        \"name\": {\n",
      "          \"title\": \"Name\",\n",
      "          \"type\": \"string\"\n",
      "        },\n",
      "        \"description\": {\n",
      "          \"anyOf\": [\n",
      "            {\n",
      "              \"type\": \"string\"\n",
      "            },\n",
      "            {\n",
      "              \"type\": \"null\"\n",
      "            }\n",
      "          ],\n",
      "          \"default\": null,\n",
      "          \"title\": \"Description\"\n",
      "        }\n",
      "      },\n",
      "      \"required\": [\n",
      "        \"name\"\n",
      "      ],\n",
      "      \"title\": \"Item\",\n",
      "      \"type\": \"object\"\n",
      "    }\n",
      "  },\n",
      "  \"properties\": {\n",
      "    \"id\": {\n",
      "      \"title\": \"Id\",\n",
      "      \"type\": \"integer\"\n",
      "    },\n",
      "    \"items\": {\n",
      "      \"items\": {\n",
      "        \"$ref\": \"#/$defs/Item\"\n",
      "      },\n",
      "      \"title\": \"Items\",\n",
      "      \"type\": \"array\"\n",
      "    }\n",
      "  },\n",
      "  \"required\": [\n",
      "    \"id\",\n",
      "    \"items\"\n",
      "  ],\n",
      "  \"title\": \"Order\",\n",
      "  \"type\": \"object\"\n",
      "}\n"
     ]
    }
   ],
   "source": [
    "print(json.dumps(Order.model_json_schema(), indent=2))"
   ]
  },
  {
   "cell_type": "markdown",
   "metadata": {},
   "source": [
    "##### `Deserialization`\n",
    "- Travel other direction - our app should be able to convert that serialized object to model instance or a python object. "
   ]
  },
  {
   "cell_type": "code",
   "execution_count": 209,
   "metadata": {},
   "outputs": [],
   "source": [
    "from pydantic import BaseModel, EmailStr\n",
    "from typing import Optional\n",
    "\n",
    "class User(BaseModel):\n",
    "    name: str\n",
    "    age: int\n",
    "    email: Optional[EmailStr] = None"
   ]
  },
  {
   "cell_type": "code",
   "execution_count": 210,
   "metadata": {},
   "outputs": [],
   "source": [
    "user_data = '{\"name\": \"Alice\", \"age\": 30, \"email\": \"alice@example.com\"}' # just a string we received over the netwrok but there is no guarantee it is in the structure we are expecting. "
   ]
  },
  {
   "cell_type": "code",
   "execution_count": 211,
   "metadata": {},
   "outputs": [],
   "source": [
    "user = User.model_validate_json(user_data) # if the data is valid it will deserialize it will provide the new instance of the user model. "
   ]
  },
  {
   "cell_type": "code",
   "execution_count": 212,
   "metadata": {},
   "outputs": [
    {
     "data": {
      "text/plain": [
       "'Alice'"
      ]
     },
     "execution_count": 212,
     "metadata": {},
     "output_type": "execute_result"
    }
   ],
   "source": [
    "user.name # access its name and atrributes. "
   ]
  },
  {
   "cell_type": "code",
   "execution_count": 213,
   "metadata": {},
   "outputs": [],
   "source": [
    "# Isolate and find invalid ones and deserialize the ones valid to the model. \n",
    "users_data = [\n",
    "    '{\"name\": \"Alice\", \"age\": 30, \"email\": \"alice@hotmail.com\"}',\n",
    "    '{\"name\": \"Bob\", \"age\": \"30\", \"email\": \"brian@gmail\"}',\n",
    "    '{\"name\": \"Charlie\", \"age\": 25, \"email\": \"tiana\"}'\n",
    "]"
   ]
  },
  {
   "cell_type": "code",
   "execution_count": 214,
   "metadata": {},
   "outputs": [
    {
     "name": "stdout",
     "output_type": "stream",
     "text": [
      "✅ VALID USER:\n",
      "name='Alice' age=30 email='alice@hotmail.com'\n",
      "\n",
      "❌ INVALID USER: \n",
      "value is not a valid email address: The part after the @-sign is not valid. It should have a period.\n",
      "\n",
      "❌ INVALID USER: \n",
      "value is not a valid email address: The email address is not valid. It must have exactly one @-sign.\n",
      "\n"
     ]
    }
   ],
   "source": [
    "for u in users_data:\n",
    "    try:\n",
    "        user = User.model_validate_json(u) # model_validate_json is a method that validates the json string and returns the instance of the model. \n",
    "        print(\"✅ VALID USER:\")\n",
    "        print(user, end=\"\\n\\n\")\n",
    "    except ValidationError as e:\n",
    "        print(\"❌ INVALID USER: \")\n",
    "        print(e.errors()[0][\"msg\"], end=\"\\n\\n\")"
   ]
  }
 ],
 "metadata": {
  "kernelspec": {
   "display_name": "env",
   "language": "python",
   "name": "python3"
  },
  "language_info": {
   "codemirror_mode": {
    "name": "ipython",
    "version": 3
   },
   "file_extension": ".py",
   "mimetype": "text/x-python",
   "name": "python",
   "nbconvert_exporter": "python",
   "pygments_lexer": "ipython3",
   "version": "3.11.6"
  }
 },
 "nbformat": 4,
 "nbformat_minor": 2
}
